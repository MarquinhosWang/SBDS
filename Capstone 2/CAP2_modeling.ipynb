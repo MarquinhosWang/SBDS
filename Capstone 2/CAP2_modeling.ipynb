{
 "cells": [
  {
   "cell_type": "markdown",
   "id": "5378dd71",
   "metadata": {},
   "source": [
    "# Capstone Two - Modeling"
   ]
  },
  {
   "cell_type": "markdown",
   "id": "ded9ce6d",
   "metadata": {},
   "source": [
    "## Imports"
   ]
  },
  {
   "cell_type": "code",
   "execution_count": 1,
   "id": "aa4b17aa",
   "metadata": {},
   "outputs": [],
   "source": [
    "import pandas as pd\n",
    "import numpy as np\n",
    "from sklearn.preprocessing import StandardScaler\n",
    "from sklearn.model_selection import train_test_split\n",
    "from sklearn.linear_model import LinearRegression\n",
    "from sklearn.ensemble import RandomForestRegressor, AdaBoostRegressor\n",
    "from sklearn.metrics import mean_squared_error, r2_score"
   ]
  },
  {
   "cell_type": "markdown",
   "id": "4a6d983b",
   "metadata": {},
   "source": [
    "## Load the data from Pre-processing"
   ]
  },
  {
   "cell_type": "code",
   "execution_count": 2,
   "id": "ca48eaef",
   "metadata": {},
   "outputs": [
    {
     "data": {
      "text/html": [
       "<div>\n",
       "<style scoped>\n",
       "    .dataframe tbody tr th:only-of-type {\n",
       "        vertical-align: middle;\n",
       "    }\n",
       "\n",
       "    .dataframe tbody tr th {\n",
       "        vertical-align: top;\n",
       "    }\n",
       "\n",
       "    .dataframe thead th {\n",
       "        text-align: right;\n",
       "    }\n",
       "</style>\n",
       "<table border=\"1\" class=\"dataframe\">\n",
       "  <thead>\n",
       "    <tr style=\"text-align: right;\">\n",
       "      <th></th>\n",
       "      <th>Unnamed: 0</th>\n",
       "      <th>Price</th>\n",
       "      <th>Year</th>\n",
       "      <th>Mileage</th>\n",
       "      <th>Age</th>\n",
       "      <th>City</th>\n",
       "      <th>State</th>\n",
       "      <th>Make</th>\n",
       "      <th>Model</th>\n",
       "    </tr>\n",
       "  </thead>\n",
       "  <tbody>\n",
       "    <tr>\n",
       "      <th>0</th>\n",
       "      <td>0</td>\n",
       "      <td>8995</td>\n",
       "      <td>2014</td>\n",
       "      <td>35725</td>\n",
       "      <td>8</td>\n",
       "      <td>646</td>\n",
       "      <td>43</td>\n",
       "      <td>1</td>\n",
       "      <td>1194</td>\n",
       "    </tr>\n",
       "    <tr>\n",
       "      <th>1</th>\n",
       "      <td>1</td>\n",
       "      <td>10888</td>\n",
       "      <td>2013</td>\n",
       "      <td>19606</td>\n",
       "      <td>9</td>\n",
       "      <td>1260</td>\n",
       "      <td>34</td>\n",
       "      <td>1</td>\n",
       "      <td>1193</td>\n",
       "    </tr>\n",
       "    <tr>\n",
       "      <th>2</th>\n",
       "      <td>2</td>\n",
       "      <td>8995</td>\n",
       "      <td>2013</td>\n",
       "      <td>48851</td>\n",
       "      <td>9</td>\n",
       "      <td>646</td>\n",
       "      <td>43</td>\n",
       "      <td>1</td>\n",
       "      <td>1194</td>\n",
       "    </tr>\n",
       "    <tr>\n",
       "      <th>3</th>\n",
       "      <td>3</td>\n",
       "      <td>10999</td>\n",
       "      <td>2014</td>\n",
       "      <td>39922</td>\n",
       "      <td>8</td>\n",
       "      <td>2490</td>\n",
       "      <td>5</td>\n",
       "      <td>1</td>\n",
       "      <td>1193</td>\n",
       "    </tr>\n",
       "    <tr>\n",
       "      <th>4</th>\n",
       "      <td>4</td>\n",
       "      <td>14799</td>\n",
       "      <td>2016</td>\n",
       "      <td>22142</td>\n",
       "      <td>6</td>\n",
       "      <td>1231</td>\n",
       "      <td>44</td>\n",
       "      <td>1</td>\n",
       "      <td>1196</td>\n",
       "    </tr>\n",
       "  </tbody>\n",
       "</table>\n",
       "</div>"
      ],
      "text/plain": [
       "   Unnamed: 0  Price  Year  Mileage  Age  City  State  Make  Model\n",
       "0           0   8995  2014    35725    8   646     43     1   1194\n",
       "1           1  10888  2013    19606    9  1260     34     1   1193\n",
       "2           2   8995  2013    48851    9   646     43     1   1194\n",
       "3           3  10999  2014    39922    8  2490      5     1   1193\n",
       "4           4  14799  2016    22142    6  1231     44     1   1196"
      ]
     },
     "execution_count": 2,
     "metadata": {},
     "output_type": "execute_result"
    }
   ],
   "source": [
    "car_data = pd.read_csv('car_datapre.csv')\n",
    "car_data.head()"
   ]
  },
  {
   "cell_type": "markdown",
   "id": "6e0b21da",
   "metadata": {},
   "source": [
    "## Train-test-split"
   ]
  },
  {
   "cell_type": "code",
   "execution_count": 3,
   "id": "070c89d0",
   "metadata": {},
   "outputs": [],
   "source": [
    "X = car_data.drop('Price',axis=1).values\n",
    "y = car_data['Price'].values"
   ]
  },
  {
   "cell_type": "code",
   "execution_count": 4,
   "id": "8572911c",
   "metadata": {},
   "outputs": [],
   "source": [
    "X_train, X_test, y_train, y_test = train_test_split(X,y,  test_size = 0.2, random_state=42)"
   ]
  },
  {
   "cell_type": "markdown",
   "id": "aaddc237",
   "metadata": {},
   "source": [
    "## Standardization"
   ]
  },
  {
   "cell_type": "code",
   "execution_count": 5,
   "id": "9acc8202",
   "metadata": {},
   "outputs": [
    {
     "name": "stdout",
     "output_type": "stream",
     "text": [
      "60392.0492245849 164837.33171005215\n",
      "3.930411299984994e-15 1.0000000000004121\n"
     ]
    }
   ],
   "source": [
    "scaler = StandardScaler()\n",
    "X_train = scaler.fit_transform(X_train) \n",
    "X_test = scaler.transform(X_test)\n",
    "print(np.mean(X), np.std(X))\n",
    "print(np.mean(X_train), np.std(X_train))"
   ]
  },
  {
   "cell_type": "markdown",
   "id": "9f7e22d9",
   "metadata": {},
   "source": []
  },
  {
   "cell_type": "markdown",
   "id": "41c1c9c5",
   "metadata": {},
   "source": [
    "## Modeling"
   ]
  },
  {
   "cell_type": "markdown",
   "id": "e0c122b1",
   "metadata": {},
   "source": [
    "### Linear Regression"
   ]
  },
  {
   "cell_type": "code",
   "execution_count": 6,
   "id": "769145dc",
   "metadata": {},
   "outputs": [],
   "source": [
    "lr = LinearRegression()\n",
    "lr.fit(X_train, y_train)\n",
    "y_pred = lr.predict(X_test)"
   ]
  },
  {
   "cell_type": "code",
   "execution_count": 7,
   "id": "ac6100e1",
   "metadata": {},
   "outputs": [
    {
     "name": "stdout",
     "output_type": "stream",
     "text": [
      "R2 score for Linear Regression model is  0.21404276807879308\n",
      "MSE for Linear Regression model is 143960843.69756767\n"
     ]
    }
   ],
   "source": [
    "score = r2_score(y_test,y_pred)\n",
    "mse = mean_squared_error(y_test,y_pred)\n",
    "print('R2 score for Linear Regression model is ', score)\n",
    "print('MSE for Linear Regression model is', mse)"
   ]
  },
  {
   "cell_type": "markdown",
   "id": "60837fbd",
   "metadata": {},
   "source": [
    "### Random Forest Regressor"
   ]
  },
  {
   "cell_type": "code",
   "execution_count": 8,
   "id": "09b3ccb9",
   "metadata": {},
   "outputs": [],
   "source": [
    "rf = RandomForestRegressor(random_state=42)\n",
    "rf.fit(X_train, y_train)\n",
    "y_pred = rf.predict(X_test)"
   ]
  },
  {
   "cell_type": "code",
   "execution_count": 9,
   "id": "520dc702",
   "metadata": {},
   "outputs": [
    {
     "name": "stdout",
     "output_type": "stream",
     "text": [
      "R2 score for Random Forest model is  0.9662798070787618\n",
      "MSE for Random Forest model is 6176401.495435131\n"
     ]
    }
   ],
   "source": [
    "score = r2_score(y_test,y_pred)\n",
    "mse = mean_squared_error(y_test,y_pred)\n",
    "print('R2 score for Random Forest model is ', score)\n",
    "print('MSE for Random Forest model is', mse)"
   ]
  },
  {
   "cell_type": "markdown",
   "id": "500bc238",
   "metadata": {},
   "source": [
    "### Adaptive Boosting Regressor"
   ]
  },
  {
   "cell_type": "code",
   "execution_count": 10,
   "id": "320540ef",
   "metadata": {},
   "outputs": [],
   "source": [
    "ada=AdaBoostRegressor(random_state=42)\n",
    "ada.fit(X_train, y_train)\n",
    "y_pred = ada.predict(X_test)"
   ]
  },
  {
   "cell_type": "code",
   "execution_count": 11,
   "id": "8844ed07",
   "metadata": {},
   "outputs": [
    {
     "name": "stdout",
     "output_type": "stream",
     "text": [
      "R2 score for AdaBoost model is  -0.515302390098759\n",
      "MSE for AdaBoost model is 277552265.79227835\n"
     ]
    }
   ],
   "source": [
    "score = r2_score(y_test,y_pred)\n",
    "mse = mean_squared_error(y_test,y_pred)\n",
    "print('R2 score for AdaBoost model is ', score)\n",
    "print('MSE for AdaBoost model is', mse)"
   ]
  }
 ],
 "metadata": {
  "kernelspec": {
   "display_name": "Python 3 (ipykernel)",
   "language": "python",
   "name": "python3"
  },
  "language_info": {
   "codemirror_mode": {
    "name": "ipython",
    "version": 3
   },
   "file_extension": ".py",
   "mimetype": "text/x-python",
   "name": "python",
   "nbconvert_exporter": "python",
   "pygments_lexer": "ipython3",
   "version": "3.9.7"
  }
 },
 "nbformat": 4,
 "nbformat_minor": 5
}
